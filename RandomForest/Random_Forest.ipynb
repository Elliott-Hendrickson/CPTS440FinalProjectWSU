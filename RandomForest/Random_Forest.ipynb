{
  "nbformat": 4,
  "nbformat_minor": 0,
  "metadata": {
    "colab": {
      "provenance": []
    },
    "kernelspec": {
      "name": "python3",
      "display_name": "Python 3"
    },
    "language_info": {
      "name": "python"
    }
  },
  "cells": [
    {
      "cell_type": "code",
      "execution_count": null,
      "metadata": {
        "id": "R8ZzfCyFhKSw"
      },
      "outputs": [],
      "source": [
        "import pandas as pd\n",
        "import numpy as np\n",
        "from sklearn.model_selection import train_test_split\n",
        "from sklearn.metrics import mean_squared_error"
      ]
    },
    {
      "cell_type": "code",
      "source": [
        "df = pd.read_csv('train.csv')\n",
        "print(df.head(5))"
      ],
      "metadata": {
        "colab": {
          "base_uri": "https://localhost:8080/"
        },
        "id": "e7qKyblYhX9E",
        "outputId": "bfc1c1e8-ebd3-4483-eecb-a5738c00b958"
      },
      "execution_count": 7,
      "outputs": [
        {
          "output_type": "stream",
          "name": "stdout",
          "text": [
            "   Id  MSSubClass MSZoning  LotFrontage  LotArea Street Alley LotShape  \\\n",
            "0   1          60       RL         65.0     8450   Pave   NaN      Reg   \n",
            "1   2          20       RL         80.0     9600   Pave   NaN      Reg   \n",
            "2   3          60       RL         68.0    11250   Pave   NaN      IR1   \n",
            "3   4          70       RL         60.0     9550   Pave   NaN      IR1   \n",
            "4   5          60       RL         84.0    14260   Pave   NaN      IR1   \n",
            "\n",
            "  LandContour Utilities  ... PoolArea PoolQC Fence MiscFeature MiscVal MoSold  \\\n",
            "0         Lvl    AllPub  ...        0    NaN   NaN         NaN       0      2   \n",
            "1         Lvl    AllPub  ...        0    NaN   NaN         NaN       0      5   \n",
            "2         Lvl    AllPub  ...        0    NaN   NaN         NaN       0      9   \n",
            "3         Lvl    AllPub  ...        0    NaN   NaN         NaN       0      2   \n",
            "4         Lvl    AllPub  ...        0    NaN   NaN         NaN       0     12   \n",
            "\n",
            "  YrSold  SaleType  SaleCondition  SalePrice  \n",
            "0   2008        WD         Normal     208500  \n",
            "1   2007        WD         Normal     181500  \n",
            "2   2008        WD         Normal     223500  \n",
            "3   2006        WD        Abnorml     140000  \n",
            "4   2008        WD         Normal     250000  \n",
            "\n",
            "[5 rows x 81 columns]\n"
          ]
        }
      ]
    },
    {
      "cell_type": "markdown",
      "source": [
        "**Selecting Features and Splitting Data Set into Training and Testing Sets**"
      ],
      "metadata": {
        "id": "1jYUUHGAkFHB"
      }
    },
    {
      "cell_type": "code",
      "source": [
        "#selection of features from the data frame\n",
        "df = df[['LotArea','OverallQual','OverallCond','YearBuilt', 'GrLivArea', 'TotRmsAbvGrd','YrSold','SalePrice']]\n",
        "#seperating features and targets\n",
        "X = df.iloc[:, :-1].values\n",
        "Y = df.iloc[:, -1].values.reshape(-1,1)\n",
        "#getting train and test split\n",
        "xTrain, xTest, yTrain, yTest = train_test_split(X,Y, test_size=.1)"
      ],
      "metadata": {
        "id": "p3i13jWWh6cC"
      },
      "execution_count": 8,
      "outputs": []
    },
    {
      "cell_type": "markdown",
      "source": [
        "**Node Class**"
      ],
      "metadata": {
        "id": "7bZnxHBDiQS7"
      }
    },
    {
      "cell_type": "code",
      "source": [
        "class Node:\n",
        "    def __init__(self, featureIndex=None, threshold=None, left=None, right=None, varianceReduction = None,value=None):\n",
        "        self.featureIndex = featureIndex\n",
        "        self.threshold = threshold\n",
        "        self.left = left\n",
        "        self.right = right\n",
        "        self.varianceReduction = varianceReduction\n",
        "        self.value=value\n"
      ],
      "metadata": {
        "id": "Et1ugqthiImw"
      },
      "execution_count": 9,
      "outputs": []
    },
    {
      "cell_type": "markdown",
      "source": [
        "**Decision Tree Class**"
      ],
      "metadata": {
        "id": "JmxPHZWEidhI"
      }
    },
    {
      "cell_type": "code",
      "source": [
        "class DecisionTree:\n",
        "    def __init__(self, minSamplesSplit=2, maxDepth=2):\n",
        "        self.minSamplesSplit=minSamplesSplit\n",
        "        self.maxDepth=maxDepth\n",
        "        self.root=None\n",
        "\n",
        "    def buildTree(self, df, currentDepth=0):\n",
        "        bestSplitNode={}\n",
        "        Xdata, ydata = df[:,:-1], df[:,-1]\n",
        "        numSamples, numFeatures = np.shape(Xdata)\n",
        "        #split condisions\n",
        "        if numSamples >= self.minSamplesSplit and currentDepth <= self.maxDepth:\n",
        "            #find best split\n",
        "            bestSplitNode = self.getBestSplit(Xdata, ydata, df)\n",
        "            # create left and right nodes\n",
        "            if bestSplitNode['varianceReduction'] > 0:\n",
        "                lSubTree = self.buildTree(bestSplitNode['dataLeft'], currentDepth + 1)\n",
        "                rSubTree = self.buildTree(bestSplitNode['dataRight'], currentDepth + 1)\n",
        "                return Node(bestSplitNode['featureIndex'], bestSplitNode['threshold'], lSubTree, rSubTree, bestSplitNode['varianceReduction'])\n",
        "\n",
        "        #value for leaf node (prediction)\n",
        "        value = np.mean(ydata)\n",
        "        return Node(value=value)\n",
        "\n",
        "    def getBestSplit(self, X,y, df):\n",
        "        bestSplitNode = {}\n",
        "        bestSplitNode['varianceReduction'] = 0\n",
        "\n",
        "        numSamples, numFeatures = np.shape(X)\n",
        "        maxVariance = float('-inf')\n",
        "        minVariance = float('inf')\n",
        "        leftList =[]\n",
        "        rightList =[]\n",
        "        #iterates through features\n",
        "        for i in range(numFeatures):\n",
        "            values = X[:,i]\n",
        "            uniqueValues = np.unique(values)\n",
        "            #iterates through all posible thresholds for that feature in the data set\n",
        "            for threshold in uniqueValues:\n",
        "                queryFor = str(threshold)\n",
        "                #splits the data at threshold\n",
        "                dataLeft = df[df[:, i] <= threshold]\n",
        "                dataRight = df[df[:, i] > threshold]\n",
        "\n",
        "                if len(dataLeft) >0 and len(dataRight) > 0:\n",
        "                    leftY = dataLeft[:,-1]\n",
        "                    rightY = dataRight[:,-1]\n",
        "                    #finds the variance of the threshold\n",
        "                    currVariance = self.varianceReduction(y,leftY, rightY)\n",
        "                    #the node with the highest variance will be returned\n",
        "                    if currVariance > maxVariance:\n",
        "                        maxVariance = currVariance\n",
        "                        bestSplitNode['featureIndex'] = i\n",
        "                        bestSplitNode['threshold'] = threshold\n",
        "                        bestSplitNode['dataLeft'] = dataLeft\n",
        "                        bestSplitNode['dataRight'] = dataRight\n",
        "                        bestSplitNode['varianceReduction'] = currVariance\n",
        "\n",
        "        return bestSplitNode\n",
        "\n",
        "    def varianceReduction(self, parent, lChild, rChild):\n",
        "        weightL = len(lChild) / len(parent)\n",
        "        weightR = len(rChild) / len(parent)\n",
        "\n",
        "        return np.var(parent) - (weightL * np.var(lChild) + weightR * np.var(rChild))\n",
        "\n",
        "    def fit(self, X, y):\n",
        "        #puts data back into a 2d array\n",
        "        data = np.concatenate((X,y), axis=1)\n",
        "        #sets root\n",
        "        self.root = self.buildTree(data)\n",
        "\n",
        "    def makePrediction(self, x, tree):\n",
        "        #traverses through tree based on the values of the features in x\n",
        "\n",
        "        if tree.value!=None: return tree.value\n",
        "        featureValue = x[tree.featureIndex]\n",
        "        if featureValue <= tree.threshold:\n",
        "            return self.makePrediction(x, tree.left)\n",
        "        else:\n",
        "            return self.makePrediction(x, tree.right)\n",
        "\n",
        "    def predict(self, X):\n",
        "        prediction = [self.makePrediction(x, self.root) for x in X]\n",
        "\n",
        "        return prediction\n",
        "\n",
        "    def print_tree(self, tree=None, indent=\" \"):\n",
        "\n",
        "        if not tree:\n",
        "            tree = self.root\n",
        "            if tree is None:\n",
        "                print(\"The tree has not been built or is empty.\")\n",
        "                return\n",
        "            print('Root node here')\n",
        "        if tree.value is not None:\n",
        "            print(tree.value)\n",
        "        else:\n",
        "            print(f\"X_\"+str(tree.featureIndex), \"<=\", tree.threshold, \"?\", tree.varianceReduction)\n",
        "            print(f\"%sleft:\" % (indent), end=\"\")\n",
        "            self.print_tree(tree.left, indent + indent)\n",
        "            print(f\"%sright:\" % (indent), end=\"\")\n",
        "            self.print_tree(tree.right, indent + indent)\n"
      ],
      "metadata": {
        "id": "fMsgud2XicaD"
      },
      "execution_count": 11,
      "outputs": []
    },
    {
      "cell_type": "markdown",
      "source": [
        "**Testing Decision Tree**"
      ],
      "metadata": {
        "id": "bhMAFUr5ii9A"
      }
    },
    {
      "cell_type": "code",
      "source": [
        "decisionTree = DecisionTree(minSamplesSplit=2,maxDepth=3)\n",
        "#building the tree with the train data\n",
        "decisionTree.fit(xTrain, yTrain)\n",
        "#decisionTree.print_tree() #uncomment line to print the tree\n",
        "#making prediction\n",
        "decisionTreePrediction = decisionTree.predict(xTest)\n",
        "#RMSE of prediction\n",
        "print('RMSE of Decision Tree prediction:', np.sqrt(mean_squared_error(yTest,decisionTreePrediction)))"
      ],
      "metadata": {
        "colab": {
          "base_uri": "https://localhost:8080/"
        },
        "id": "fYQ5m3iUiiNj",
        "outputId": "92f9cdbb-1150-4dba-be0e-b1de2ba9e815"
      },
      "execution_count": 12,
      "outputs": [
        {
          "output_type": "stream",
          "name": "stdout",
          "text": [
            "RMSE of Decision Tree prediction: 49258.097819269744\n"
          ]
        }
      ]
    },
    {
      "cell_type": "markdown",
      "source": [
        "**Random Forest Tree Class**"
      ],
      "metadata": {
        "id": "33idwH-2jhZJ"
      }
    },
    {
      "cell_type": "code",
      "source": [
        "class RandomForest:\n",
        "    def __init__(self, nTrees=5, maxDepth=3, minSamplesSpit=2, nFeatures=None):\n",
        "        self.nTrees=nTrees\n",
        "        self.maxDepth =maxDepth\n",
        "        self.minSamplesSplit = minSamplesSpit\n",
        "        self.nFeatures=nFeatures\n",
        "        self.trees = []\n",
        "\n",
        "    def fit(self, X, y):\n",
        "        self.trees = []\n",
        "        #iterates through trees specified when the random forest was substantiated\n",
        "        for i in range(self.nTrees):\n",
        "            #makes decision tree\n",
        "            tree = DecisionTree(minSamplesSplit=2,maxDepth=3)\n",
        "            #bootstraps the data\n",
        "            X, y = self.bootstrap(X,y)\n",
        "            #fits the tree to the data\n",
        "            tree.fit(X,y)\n",
        "            #adds it to the list of trees in forest\n",
        "            self.trees.append(tree)\n",
        "\n",
        "\n",
        "    def bootstrap(self,X,y):\n",
        "        #gets number of samples\n",
        "        numSamples = np.shape(X)[0]\n",
        "        #randomizes the data set\n",
        "        ids = np.random.choice(numSamples,numSamples,replace=True)\n",
        "        return X[ids], y[ids]\n",
        "\n",
        "    def predict(self, X):\n",
        "        predictions = []\n",
        "        finalPredictions =[]\n",
        "        #iterates through the trees in forest\n",
        "        for tree in self.trees:\n",
        "            predictions.append(tree.predict(X))\n",
        "        sum = 0\n",
        "        #averages the predictions made by all the trees in the forest\n",
        "        for i in range((len(X))):\n",
        "            for j in range(len(predictions)):\n",
        "                sum += predictions[j][i]\n",
        "            finalPredictions.append(sum/self.nTrees)\n",
        "            sum = 0\n",
        "        return finalPredictions"
      ],
      "metadata": {
        "id": "QSwcQqcJjlMt"
      },
      "execution_count": 13,
      "outputs": []
    },
    {
      "cell_type": "markdown",
      "source": [
        "**Testing Random Forest**"
      ],
      "metadata": {
        "id": "pxP0Nb59jouO"
      }
    },
    {
      "cell_type": "code",
      "source": [
        "randomForest = RandomForest(nTrees=15, maxDepth=3,minSamplesSpit=2)\n",
        "#building forest from training data\n",
        "randomForest.fit(xTrain,yTrain)\n",
        "#making prediction\n",
        "randomForestPrediction = randomForest.predict(xTest)\n",
        "print('RMSE of Random Forest prediction', np.sqrt(mean_squared_error(yTest,randomForestPrediction)))\n"
      ],
      "metadata": {
        "colab": {
          "base_uri": "https://localhost:8080/"
        },
        "id": "Dm3TupIRjrNX",
        "outputId": "0466917a-3fb9-4162-feb5-abbae4eb59f9"
      },
      "execution_count": 14,
      "outputs": [
        {
          "output_type": "stream",
          "name": "stdout",
          "text": [
            "RMSE of Random Forest prediction 40431.7141322193\n"
          ]
        }
      ]
    },
    {
      "cell_type": "markdown",
      "source": [
        "**Average RMSE Over N Runs**"
      ],
      "metadata": {
        "id": "AomXz7Hesbft"
      }
    },
    {
      "cell_type": "code",
      "source": [
        "decisionTreeRMSE =0\n",
        "forestRMSE = 0\n",
        "\n",
        "# runs through this number of iterations\n",
        "runAmount= 5\n",
        "for i in range(runAmount):\n",
        "    print(i)\n",
        "    #get train / test split\n",
        "    xTrain, xTest, yTrain, yTest = train_test_split(X,Y, test_size=.1)\n",
        "    #make decision tree\n",
        "    treeModel = DecisionTree(minSamplesSplit=2,maxDepth=4)\n",
        "    #fit decision tree\n",
        "    treeModel.fit(xTrain, yTrain)\n",
        "    #make prediction\n",
        "    pred = treeModel.predict(xTest)\n",
        "    #get RMSE of decision tree\n",
        "    decisionTreeRMSE += np.sqrt(mean_squared_error(yTest,pred))\n",
        "    #make random forest\n",
        "    randomForest = RandomForest(nTrees=10, maxDepth=4,minSamplesSpit=2)\n",
        "    #fit random forest to data\n",
        "    randomForest.fit(xTrain,yTrain)\n",
        "    #make prediction\n",
        "    randomForestPrediction = randomForest.predict(xTest)\n",
        "    #random forest RMSE\n",
        "    forestRMSE += np.sqrt(mean_squared_error(yTest,randomForestPrediction))\n",
        "\n",
        "\n",
        "print('Average RMSE for decision tree', (decisionTreeRMSE/runAmount))\n",
        "print('Average RMSE for forest', (forestRMSE/runAmount))"
      ],
      "metadata": {
        "id": "eJnqyZCVrrIT",
        "colab": {
          "base_uri": "https://localhost:8080/"
        },
        "outputId": "d1e9264a-bd0f-4b03-e295-a893519b984d"
      },
      "execution_count": 15,
      "outputs": [
        {
          "output_type": "stream",
          "name": "stdout",
          "text": [
            "0\n",
            "1\n",
            "2\n",
            "3\n",
            "4\n",
            "Average RMSE for decision tree 40248.729594001285\n",
            "Average RMSE for forest 38737.53014858185\n"
          ]
        }
      ]
    }
  ]
}